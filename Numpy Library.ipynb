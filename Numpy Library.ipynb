{
 "cells": [
  {
   "cell_type": "code",
   "execution_count": 1,
   "metadata": {},
   "outputs": [],
   "source": [
    "import numpy as np"
   ]
  },
  {
   "cell_type": "code",
   "execution_count": 2,
   "metadata": {},
   "outputs": [],
   "source": [
    "#Question 1\n",
    "#Create a 1-d array of random integer numbers of size 10."
   ]
  },
  {
   "cell_type": "code",
   "execution_count": 3,
   "metadata": {},
   "outputs": [
    {
     "name": "stdout",
     "output_type": "stream",
     "text": [
      "The random array in given range is: [0 4 5 5 7 9 1 8 1 5]\n"
     ]
    }
   ],
   "source": [
    "ran_arr = np.random.randint(0,10,10)\n",
    "print(\"The random array in given range is:\",ran_arr)"
   ]
  },
  {
   "cell_type": "code",
   "execution_count": 4,
   "metadata": {},
   "outputs": [],
   "source": [
    "#Question 2\n",
    "#Convert the above 1-D array to a 2-D array."
   ]
  },
  {
   "cell_type": "code",
   "execution_count": 5,
   "metadata": {},
   "outputs": [
    {
     "name": "stdout",
     "output_type": "stream",
     "text": [
      "The 2D array of above array is [[0 4 5 5 7]\n",
      " [9 1 8 1 5]]\n"
     ]
    }
   ],
   "source": [
    "two_d = ran_arr.reshape(2,5)\n",
    "print(\"The 2D array of above array is\",two_d)"
   ]
  },
  {
   "cell_type": "code",
   "execution_count": 6,
   "metadata": {},
   "outputs": [],
   "source": [
    "#Question 3\n",
    "#Try to iterate the arry using nditer()."
   ]
  },
  {
   "cell_type": "code",
   "execution_count": 7,
   "metadata": {},
   "outputs": [
    {
     "name": "stdout",
     "output_type": "stream",
     "text": [
      "0\n",
      "4\n",
      "5\n",
      "5\n",
      "7\n",
      "9\n",
      "1\n",
      "8\n",
      "1\n",
      "5\n"
     ]
    }
   ],
   "source": [
    "for i in np.nditer(ran_arr):\n",
    "    print(i)"
   ]
  },
  {
   "cell_type": "code",
   "execution_count": 8,
   "metadata": {},
   "outputs": [],
   "source": [
    "#Question 4\n",
    "#Make two 1-D array using arange(), concatenate the two arrays both, row wise and\n",
    "#column wise."
   ]
  },
  {
   "cell_type": "code",
   "execution_count": 9,
   "metadata": {},
   "outputs": [
    {
     "name": "stdout",
     "output_type": "stream",
     "text": [
      "First array is: [[1 2]\n",
      " [3 4]]\n",
      "Second array is: [[5 6]\n",
      " [7 8]]\n",
      "ROW wise concatenation is: [[1 2]\n",
      " [3 4]\n",
      " [5 6]\n",
      " [7 8]]\n",
      "Column wise concatenation is: [[1 2 5 6]\n",
      " [3 4 7 8]]\n"
     ]
    }
   ],
   "source": [
    "arr1 = np.arange(1,5).reshape(2,2)\n",
    "print('First array is:',arr1)\n",
    "arr2 = np.arange(5,9).reshape(2,2)\n",
    "print('Second array is:',arr2)\n",
    "\n",
    "arr_r = np.append(arr1,arr2,axis=0)\n",
    "print('ROW wise concatenation is:',arr_r)\n",
    "arr_c = np.append(arr1,arr2,axis=1)\n",
    "print('Column wise concatenation is:',arr_c)"
   ]
  },
  {
   "cell_type": "code",
   "execution_count": 10,
   "metadata": {},
   "outputs": [],
   "source": [
    "#Question 5\n",
    "#Apply stack() to join two arrays."
   ]
  },
  {
   "cell_type": "code",
   "execution_count": 11,
   "metadata": {},
   "outputs": [
    {
     "name": "stdout",
     "output_type": "stream",
     "text": [
      "The array after using stack() is: [[0 1 2 3]\n",
      " [0 1 2 3]]\n"
     ]
    }
   ],
   "source": [
    "arr1 = np.arange(4)\n",
    "arr2 = np.arange(4)\n",
    "\n",
    "arr = np.stack((arr1,arr2),axis=0)\n",
    "print(\"The array after using stack() is:\",arr)"
   ]
  },
  {
   "cell_type": "code",
   "execution_count": 12,
   "metadata": {},
   "outputs": [],
   "source": [
    "#Question 6\n",
    "#Use where() to find an array element."
   ]
  },
  {
   "cell_type": "code",
   "execution_count": 16,
   "metadata": {},
   "outputs": [
    {
     "name": "stdout",
     "output_type": "stream",
     "text": [
      "The array is: [0 1 2 3 4]\n",
      "Enter the element to be find:2\n",
      "Element is: (array([2], dtype=int64),)\n"
     ]
    }
   ],
   "source": [
    "arr = np.arange(5)\n",
    "print(\"The array is:\",arr)\n",
    "\n",
    "n = int(input(\"Enter the element to be find:\"))\n",
    "A = np.where(arr == n)\n",
    "\n",
    "print(\"Element is:\",A)"
   ]
  },
  {
   "cell_type": "code",
   "execution_count": 14,
   "metadata": {},
   "outputs": [],
   "source": [
    "#Question 7\n",
    "#Try searchsorted() function in arrays. Specify what is the use of this function?"
   ]
  },
  {
   "cell_type": "code",
   "execution_count": 15,
   "metadata": {},
   "outputs": [
    {
     "name": "stdout",
     "output_type": "stream",
     "text": [
      "Initial Sorted Array is: [1, 2, 3, 4, 5]\n",
      "Enter the element to insert:3\n",
      "Indices to maintain sorted array is: 2\n"
     ]
    }
   ],
   "source": [
    "arr = [1,2,3,4,5]\n",
    "print(\"Initial Sorted Array is:\",arr)\n",
    "\n",
    "n=int(input(\"Enter the element to insert:\"))\n",
    "ss = np.searchsorted(arr,n)\n",
    "print(\"Indices to maintain sorted array is:\",ss)"
   ]
  }
 ],
 "metadata": {
  "kernelspec": {
   "display_name": "Python 3",
   "language": "python",
   "name": "python3"
  },
  "language_info": {
   "codemirror_mode": {
    "name": "ipython",
    "version": 3
   },
   "file_extension": ".py",
   "mimetype": "text/x-python",
   "name": "python",
   "nbconvert_exporter": "python",
   "pygments_lexer": "ipython3",
   "version": "3.8.5"
  }
 },
 "nbformat": 4,
 "nbformat_minor": 4
}
